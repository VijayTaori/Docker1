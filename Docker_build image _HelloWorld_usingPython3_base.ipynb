{
 "cells": [
  {
   "cell_type": "code",
   "execution_count": null,
   "id": "49938a98",
   "metadata": {},
   "outputs": [],
   "source": [
    "'''\n",
    "This is a beginners project to use Docker to build a docker image which can return a response 'Hello, World!' using Python3 \n",
    "'''"
   ]
  },
  {
   "cell_type": "code",
   "execution_count": null,
   "id": "1126f9de",
   "metadata": {},
   "outputs": [],
   "source": [
    "'''\n",
    "In a dedicated folder create a Dockerfile named Dockerfile. Add content to this file as printed in the next cell\n",
    "'''"
   ]
  },
  {
   "cell_type": "code",
   "execution_count": null,
   "id": "c8fcf395",
   "metadata": {},
   "outputs": [],
   "source": [
    "'''\n",
    "# Use an official Python runtime as a parent image\n",
    "# Here, we are using the official Python 3.9 slim image as the base image.\n",
    "FROM python:3.9-slim\n",
    "\n",
    "# Set the working directory to /app\n",
    "# This will be the directory in the docker container\n",
    "WORKDIR /app\n",
    "\n",
    "# Copy the current directory contents into the container at /app\n",
    "# . represents current folder! So all the contents from current folder are copied to the /app folder\n",
    "COPY . /app\n",
    "\n",
    "# Run hello.py when the container launches\n",
    "CMD [\"python3\", \"hello.py\"]\n",
    "# The above CMD is in JSON (JSON array form CMD [\"executable\",\"param1\",\"param2\"])\n",
    "# Alternatively it can be also be written as follows\n",
    "# CMD python3 hello.py (Shell form CMD command param1 param2)\n",
    "'''\n",
    "# Create another file in same folder hello.py with the folloeing contents\n",
    "\n",
    "'''\n",
    "print(\"Hello, World!\")\n",
    "\n",
    "'''\n",
    "\n",
    "# Continue in the Dockerfile\n",
    "'''\n",
    "# You can then build the Docker image using the following command\n",
    "docker build -t hello-world-image:latest .\n",
    "# Alternatively it can be also witten as\n",
    "# docker image build . -t hello-world-image:latest\n",
    "# -t argument allows to specify the name of the image and tag\n",
    "# . indicates the current folder\n",
    "'''\n"
   ]
  },
  {
   "cell_type": "code",
   "execution_count": null,
   "id": "05974834",
   "metadata": {},
   "outputs": [],
   "source": [
    "'''\n",
    "# Run a container based on created image\n",
    "docker run hello-world-image:latest\n",
    "'''''"
   ]
  },
  {
   "cell_type": "code",
   "execution_count": null,
   "id": "fafc9e67",
   "metadata": {},
   "outputs": [],
   "source": [
    "# To share an image you can create a .tar file\n",
    "\n",
    "\n",
    "'''\n",
    "docker image save --output my_docker_hello-world-image.tar hello-world-image\n",
    "'''\n",
    "\n",
    "# Delete the my_image: we can use the -f argument to force the removal of a running container\n",
    "\n",
    "'''\n",
    "docker image rm -f my_image\n",
    "'''\n",
    "\n",
    "#Recreate the image from the archive using the following command\n",
    "\n",
    "'''\n",
    "docker image load --input my_docker_image.tar\n",
    "'''"
   ]
  },
  {
   "cell_type": "code",
   "execution_count": null,
   "id": "5e4fbaf0",
   "metadata": {},
   "outputs": [],
   "source": []
  }
 ],
 "metadata": {
  "kernelspec": {
   "display_name": "Python 3 (ipykernel)",
   "language": "python",
   "name": "python3"
  },
  "language_info": {
   "codemirror_mode": {
    "name": "ipython",
    "version": 3
   },
   "file_extension": ".py",
   "mimetype": "text/x-python",
   "name": "python",
   "nbconvert_exporter": "python",
   "pygments_lexer": "ipython3",
   "version": "3.11.5"
  }
 },
 "nbformat": 4,
 "nbformat_minor": 5
}
